{
  "nbformat": 4,
  "nbformat_minor": 0,
  "metadata": {
    "colab": {
      "provenance": []
    },
    "kernelspec": {
      "name": "python3",
      "display_name": "Python 3"
    },
    "language_info": {
      "name": "python"
    }
  },
  "cells": [
    {
      "cell_type": "markdown",
      "source": [
        "#PROBLEM 7: DBSCAN on real data\n",
        "Run the DBSCAN algorithm on the 20NG dataset, and on the FASHION dataset, and the HouseHold dataset (see papers), and evaluate results. You need to implement both phases (1) neighborhoods creation, (2) DBSCAN.\n",
        "Explain why/when it works, and speculate why/when not. You need to trial and error for parameters epsilon and MinPts\n",
        "\n",
        "DBSCAN Revisited, Revisited: Why and How You Should (Still) Use DBSCAN\n",
        "DBSCAN Revisited:Mis-Claim, Un-Fixability, and Approximation\n",
        "\n",
        "EXTRA CREDIT: Using class labels (cheating), try to remove/add points in curate the set for better DBSCAN runs"
      ],
      "metadata": {
        "id": "XNumIIkJZE7I"
      }
    },
    {
      "cell_type": "code",
      "source": [
        "!pip install idx2numpy"
      ],
      "metadata": {
        "collapsed": true,
        "colab": {
          "base_uri": "https://localhost:8080/"
        },
        "id": "mJYgYio5Qxf6",
        "outputId": "7820299e-f1af-4b29-c010-fdef762951aa"
      },
      "execution_count": 1,
      "outputs": [
        {
          "output_type": "stream",
          "name": "stdout",
          "text": [
            "Requirement already satisfied: idx2numpy in /usr/local/lib/python3.10/dist-packages (1.2.3)\n",
            "Requirement already satisfied: numpy in /usr/local/lib/python3.10/dist-packages (from idx2numpy) (1.25.2)\n",
            "Requirement already satisfied: six in /usr/local/lib/python3.10/dist-packages (from idx2numpy) (1.16.0)\n"
          ]
        }
      ]
    },
    {
      "cell_type": "code",
      "execution_count": 2,
      "metadata": {
        "id": "7cRl2pDDdMRk",
        "colab": {
          "base_uri": "https://localhost:8080/"
        },
        "outputId": "0c242fba-3924-44af-cdfd-e496024d4c35"
      },
      "outputs": [
        {
          "output_type": "stream",
          "name": "stdout",
          "text": [
            "Drive already mounted at /content/drive; to attempt to forcibly remount, call drive.mount(\"/content/drive\", force_remount=True).\n"
          ]
        }
      ],
      "source": [
        "import pandas as pd\n",
        "import numpy as np\n",
        "import matplotlib.pyplot as plt\n",
        "from google.colab import drive\n",
        "from sklearn.neighbors import BallTree\n",
        "import seaborn as sns\n",
        "drive.mount('/content/drive')\n",
        "import idx2numpy\n",
        "from sklearn.datasets import fetch_20newsgroups"
      ]
    },
    {
      "cell_type": "markdown",
      "source": [
        "# Fashion Dataset"
      ],
      "metadata": {
        "id": "VAvHjngkvytW"
      }
    },
    {
      "cell_type": "code",
      "source": [
        "# Fashion Train dataset\n",
        "imgs = idx2numpy.convert_from_file('/content/drive/MyDrive/USML/HW 2B/Fashion/train-images-idx3-ubyte')\n",
        "lbls = idx2numpy.convert_from_file('/content/drive/MyDrive/USML/HW 2B/Fashion/train-labels-idx1-ubyte')\n",
        "imgs_flat = imgs.reshape(imgs.shape[0],-1)"
      ],
      "metadata": {
        "id": "jIeQAhACC58I"
      },
      "execution_count": 4,
      "outputs": []
    },
    {
      "cell_type": "code",
      "source": [
        "fashion_ball_tree = BallTree(imgs_flat,metric='euclidean')"
      ],
      "metadata": {
        "id": "LVX6NDZKRbdk"
      },
      "execution_count": 5,
      "outputs": []
    },
    {
      "cell_type": "markdown",
      "source": [
        "## Attempt 1 - To find appropriate Eps"
      ],
      "metadata": {
        "id": "2sy0sk3Sv8Z-"
      }
    },
    {
      "cell_type": "code",
      "source": [
        "boot = imgs_flat[0] # lbl = 9\n",
        "tshirt = imgs_flat[1] # lbl = 0\n",
        "dress = imgs_flat[3] # lbl = 3\n",
        "pullover = imgs_flat[5] # lbl = 2\n",
        "sneaker = imgs_flat[6] # lbl = 7\n",
        "sandal = imgs_flat[8] # lbl = 5\n",
        "trouser = imgs_flat[16] # lbl = 1\n",
        "shirt = imgs_flat[18] # lbl = 6\n",
        "coat = imgs_flat[19] # lbl = 4\n",
        "bag = imgs_flat[35] # lbl = 8\n",
        "\n"
      ],
      "metadata": {
        "id": "0pS15ARCv422"
      },
      "execution_count": 6,
      "outputs": []
    },
    {
      "cell_type": "code",
      "source": [
        "def accuracy(radius,img,img_lbl,img_lbl_name):\n",
        "  similar_imgs = fashion_ball_tree.query_radius([img], r=radius)\n",
        "  indices_of_similar_imgs = similar_imgs[0]\n",
        "  correct_lbl = 0\n",
        "  for idx in indices_of_similar_imgs:\n",
        "    if lbls[idx] == img_lbl:\n",
        "      correct_lbl += 1\n",
        "  total_lbls = len(indices_of_similar_imgs)\n",
        "  accu = (correct_lbl/total_lbls) * 100\n",
        "  print(f\"For radius {radius}, class {img_lbl_name} is correctly classified {accu:.2f}% out of {total_lbls}\")\n",
        "  return accu"
      ],
      "metadata": {
        "id": "Gs1ERbApwD8s"
      },
      "execution_count": 35,
      "outputs": []
    },
    {
      "cell_type": "code",
      "source": [
        "radius = 1625\n",
        "img_sample = {\n",
        "    'boot': [boot,radius,9],\n",
        "    'tshirt': [tshirt,radius,0],\n",
        "    'dress': [dress,radius,3],\n",
        "    'pullover': [pullover,radius,2],\n",
        "    'sneaker': [sneaker,radius,7],\n",
        "    'sandal': [sandal,radius,5],\n",
        "    'trouser': [trouser,radius,1],\n",
        "    'shirt': [shirt,radius,6],\n",
        "    'coat': [coat,radius,4],\n",
        "    'bag': [bag,radius,8]\n",
        "}\n",
        "avg_accuracy = 0\n",
        "for lbl_name,(img,radius,lbl) in img_sample.items():\n",
        "  avg_accuracy += accuracy(radius,img,lbl,lbl_name)\n",
        "\n",
        "print(f\"Average Accuracy:{avg_accuracy/10} \")"
      ],
      "metadata": {
        "id": "PIkjJ8p7wRMJ",
        "outputId": "d5f694f7-fe57-44a2-82aa-57b73c75d3ad",
        "colab": {
          "base_uri": "https://localhost:8080/"
        }
      },
      "execution_count": 51,
      "outputs": [
        {
          "output_type": "stream",
          "name": "stdout",
          "text": [
            "For radius 1625, class boot is correctly classified 94.47% out of 199\n",
            "For radius 1625, class tshirt is correctly classified 96.83% out of 852\n",
            "For radius 1625, class dress is correctly classified 21.79% out of 3221\n",
            "For radius 1625, class pullover is correctly classified 81.76% out of 669\n",
            "For radius 1625, class sneaker is correctly classified 89.32% out of 3455\n",
            "For radius 1625, class sandal is correctly classified 91.82% out of 318\n",
            "For radius 1625, class trouser is correctly classified 94.68% out of 1033\n",
            "For radius 1625, class shirt is correctly classified 28.94% out of 2426\n",
            "For radius 1625, class coat is correctly classified 11.58% out of 5641\n",
            "For radius 1625, class bag is correctly classified 77.11% out of 450\n",
            "Average Accuracy:68.8304669488624 \n"
          ]
        }
      ]
    },
    {
      "cell_type": "markdown",
      "source": [
        "## Attempt 2 - To find Eps"
      ],
      "metadata": {
        "id": "dZRC7Amb3B0b"
      }
    },
    {
      "cell_type": "code",
      "source": [
        "# Determining EPS and MINPTS\n",
        "# 1. Calculate distance of k-th nearest neighbor for each point\n",
        "# 2. Plot in ascending / descending order\n",
        "# 3. Set EPS to max distance before “jump”\n",
        "# 4. Set Minpts to k.\n",
        "def determineEpsAndMinPts(k, ball_tree, data):\n",
        "  distances, indices = ball_tree.query(data,k=k)\n",
        "  kth_distances = distances[:,-1]\n",
        "  kth_distances.sort()\n",
        "  plt.plot(kth_distances)\n",
        "  plt.show()"
      ],
      "metadata": {
        "id": "tqpDQU4RYcxV"
      },
      "execution_count": 58,
      "outputs": []
    },
    {
      "cell_type": "code",
      "source": [
        "sample_indices = np.random.choice(imgs_flat.shape[0], 10000, replace=False)\n",
        "sampled_imgs = imgs_flat[sample_indices]\n",
        "sampled_ball_tree = BallTree(sampled_imgs,metric='euclidean')\n",
        "determineEpsAndMinPts(785, sampled_ball_tree, sampled_imgs)"
      ],
      "metadata": {
        "id": "PJ-KjevH3Uea",
        "outputId": "bac66306-6e68-4586-ff10-4bf2c4ab0c7e",
        "colab": {
          "base_uri": "https://localhost:8080/",
          "height": 430
        }
      },
      "execution_count": 60,
      "outputs": [
        {
          "output_type": "display_data",
          "data": {
            "text/plain": [
              "<Figure size 640x480 with 1 Axes>"
            ],
            "image/png": "[encoded data removed]"
          },
          "metadata": {}
        }
      ]
    },
    {
      "cell_type": "markdown",
      "source": [
        "## DBSCAN"
      ],
      "metadata": {
        "id": "_OpR272x65sC"
      }
    },
    {
      "cell_type": "code",
      "source": [],
      "metadata": {
        "id": "adXzBGbefK26"
      },
      "execution_count": null,
      "outputs": []
    },
    {
      "cell_type": "code",
      "source": [],
      "metadata": {
        "id": "aq0NQWlffTXs"
      },
      "execution_count": null,
      "outputs": []
    }
  ]
}
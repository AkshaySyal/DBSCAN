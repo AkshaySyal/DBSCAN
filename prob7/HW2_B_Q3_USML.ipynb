{
  "nbformat": 4,
  "nbformat_minor": 0,
  "metadata": {
    "colab": {
      "provenance": []
    },
    "kernelspec": {
      "name": "python3",
      "display_name": "Python 3"
    },
    "language_info": {
      "name": "python"
    }
  },
  "cells": [
    {
      "cell_type": "markdown",
      "source": [
        "#PROBLEM 4 EM for coin flips\n",
        "Three coins A,B,C with head-prob p_A, p_B, p_C can be chosen for each of N sessions. Once a coin is chosen for the session, that coin is flipped D times.\n",
        "For D=20 and N=50, and fixed non-uniform selection coin probabilities pi_A, pi_B, pi_C, which sum to 1, we have this outcome , each row corresponds to a session with 20 binary 1=head 0=tail.\n",
        "\n",
        "Compute the probabilities to select each coin to session (3 mixture \"pi\" probabilities), and also the bias probabilities (3 param \"p\" probabilities)."
      ],
      "metadata": {
        "id": "XNumIIkJZE7I"
      }
    },
    {
      "cell_type": "code",
      "execution_count": 15,
      "metadata": {
        "id": "7cRl2pDDdMRk"
      },
      "outputs": [],
      "source": [
        "import numpy as np\n",
        "from scipy.stats import binom\n",
        "import requests\n",
        "import matplotlib.pyplot as plt"
      ]
    },
    {
      "cell_type": "code",
      "source": [
        "# Initialize X\n",
        "url = 'https://www.khoury.northeastern.edu/home/vip/teach/DMcourse/2_cluster_EM_mixt/HW2/coin_flips_outcome.txt'\n",
        "\n",
        "response = requests.get(url)\n",
        "data = response.text\n",
        "\n",
        "data_lines = data.strip().split('\\n')\n",
        "X = np.array([list(map(float, line.split())) for line in data_lines])"
      ],
      "metadata": {
        "id": "zAKvJ4VfZpy_"
      },
      "execution_count": 16,
      "outputs": []
    },
    {
      "cell_type": "code",
      "source": [
        "X.shape"
      ],
      "metadata": {
        "colab": {
          "base_uri": "https://localhost:8080/"
        },
        "id": "PUC7K2xpQBTB",
        "outputId": "f06b89f8-5cd5-410d-b28f-4540f21e7ab6"
      },
      "execution_count": 17,
      "outputs": [
        {
          "output_type": "execute_result",
          "data": {
            "text/plain": [
              "(50, 20)"
            ]
          },
          "metadata": {},
          "execution_count": 17
        }
      ]
    },
    {
      "cell_type": "code",
      "source": [
        "Y = np.sum(X, axis=1)\n",
        "Y.shape"
      ],
      "metadata": {
        "colab": {
          "base_uri": "https://localhost:8080/"
        },
        "id": "pWyWEtf-H35k",
        "outputId": "e9fc226d-a367-45bd-f32a-cae6f13d9d06"
      },
      "execution_count": 18,
      "outputs": [
        {
          "output_type": "execute_result",
          "data": {
            "text/plain": [
              "(50,)"
            ]
          },
          "metadata": {},
          "execution_count": 18
        }
      ]
    },
    {
      "cell_type": "code",
      "source": [
        "for i in range(1,21):\n",
        "  print(f\"Freq of {i} = {len(Y[Y==i])}\")"
      ],
      "metadata": {
        "colab": {
          "base_uri": "https://localhost:8080/"
        },
        "id": "KYmi7Va7H_fg",
        "outputId": "eb8e9145-6494-4079-f9d7-508f0a245318"
      },
      "execution_count": 19,
      "outputs": [
        {
          "output_type": "stream",
          "name": "stdout",
          "text": [
            "Freq of 1 = 0\n",
            "Freq of 2 = 1\n",
            "Freq of 3 = 5\n",
            "Freq of 4 = 1\n",
            "Freq of 5 = 4\n",
            "Freq of 6 = 1\n",
            "Freq of 7 = 2\n",
            "Freq of 8 = 3\n",
            "Freq of 9 = 1\n",
            "Freq of 10 = 2\n",
            "Freq of 11 = 4\n",
            "Freq of 12 = 5\n",
            "Freq of 13 = 3\n",
            "Freq of 14 = 7\n",
            "Freq of 15 = 2\n",
            "Freq of 16 = 0\n",
            "Freq of 17 = 0\n",
            "Freq of 18 = 3\n",
            "Freq of 19 = 6\n",
            "Freq of 20 = 0\n"
          ]
        }
      ]
    },
    {
      "cell_type": "code",
      "source": [
        "plt.hist(Y,bins=np.arange(1, 22)-0.5)\n",
        "plt.xlabel('Value')\n",
        "plt.ylabel('Frequency')\n",
        "plt.xticks(np.arange(1, 21))\n",
        "plt.show()"
      ],
      "metadata": {
        "colab": {
          "base_uri": "https://localhost:8080/",
          "height": 449
        },
        "id": "nPWKNPKhNSGN",
        "outputId": "0449994a-7480-41bc-93bf-9dd28c47ab15"
      },
      "execution_count": 20,
      "outputs": [
        {
          "output_type": "display_data",
          "data": {
            "text/plain": [
              "<Figure size 640x480 with 1 Axes>"
            ],
            "image/png": "[encoded data removed]"
          },
          "metadata": {}
        }
      ]
    },
    {
      "cell_type": "code",
      "source": [
        "# Weird prob with high freq: 0.95 (19/20) and 0.15 (3/20)\n",
        "# Corresponding prob of selection: 0.12 (6/50) and 0.1 (5/50)\n",
        "\n",
        "# personal opinion\n",
        "# There must be a coin with high bias >0.9 and low selection prob ~ 0.2 [responsible for freq of 18 and 19]\n",
        "\n",
        "# There must be a coin with slightly high bias [50-70]% with high selection prob (~0.5)\n",
        "\n",
        "# There must be a coin with low bias [15-25]% with low selection prob"
      ],
      "metadata": {
        "id": "ez1UnNaFKVAv"
      },
      "execution_count": 21,
      "outputs": []
    },
    {
      "cell_type": "code",
      "source": [
        "def E_step(Y, gamma, selection_prob,bias):\n",
        "  for n in range(50):\n",
        "    n1 = selection_prob[0]*binom.pmf(Y[n], 20, bias[0])\n",
        "    n2 = selection_prob[1]*binom.pmf(Y[n], 20, bias[1])\n",
        "    n3 = selection_prob[2]*binom.pmf(Y[n], 20, bias[2])\n",
        "\n",
        "    gamma[n,0] = n1/(n1+n2+n3)\n",
        "    gamma[n,1] = n2/(n1+n2+n3)\n",
        "    gamma[n,2] = n3/(n1+n2+n3)\n",
        "\n",
        "  return gamma"
      ],
      "metadata": {
        "id": "HPxL2l3AXVyX"
      },
      "execution_count": 22,
      "outputs": []
    },
    {
      "cell_type": "code",
      "source": [
        "def M_step(Y, gamma, selection_prob,bias):\n",
        "  selection_prob[0] = gamma.T[0].sum() / 50\n",
        "  selection_prob[1] = gamma.T[1].sum() / 50\n",
        "  selection_prob[2] = gamma.T[2].sum() / 50\n",
        "\n",
        "  bias[0] = (gamma.T[0] * Y).sum() / (gamma.T[0] * 20).sum()\n",
        "  bias[1] = (gamma.T[1] * Y).sum() / (gamma.T[1] * 20).sum()\n",
        "  bias[2] = (gamma.T[2] * Y).sum() / (gamma.T[2] * 20).sum()\n",
        "\n",
        "  return selection_prob,bias\n"
      ],
      "metadata": {
        "id": "f6iUnnmXZqZB"
      },
      "execution_count": 23,
      "outputs": []
    },
    {
      "cell_type": "code",
      "source": [
        "# Initialization - 1\n",
        "\n",
        "p_A = 0.5\n",
        "p_B = 0.5\n",
        "p_C = 0.5\n",
        "\n",
        "bias = [p_A,p_B,p_C]\n",
        "\n",
        "pi_A = 0.33\n",
        "pi_B = 0.33\n",
        "pi_C = 0.34\n",
        "\n",
        "selection_prob = [pi_A,pi_B,pi_C]\n",
        "\n",
        "gamma = np.empty((50, 3))"
      ],
      "metadata": {
        "id": "0VsEC4JxW-oB"
      },
      "execution_count": 24,
      "outputs": []
    },
    {
      "cell_type": "code",
      "source": [
        "for i in range(500):\n",
        "  E_step(Y, gamma, selection_prob,bias)\n",
        "  M_step(Y, gamma, selection_prob,bias)"
      ],
      "metadata": {
        "id": "ZkgQn1rMwZAr"
      },
      "execution_count": 25,
      "outputs": []
    },
    {
      "cell_type": "code",
      "source": [
        "selection_prob"
      ],
      "metadata": {
        "colab": {
          "base_uri": "https://localhost:8080/"
        },
        "id": "ji-CdWvHwkjn",
        "outputId": "e3cc3358-7395-42a2-fae9-f4ee829b97de"
      },
      "execution_count": 26,
      "outputs": [
        {
          "output_type": "execute_result",
          "data": {
            "text/plain": [
              "[0.18610789351627122, 0.18610789351627122, 0.6277842129674576]"
            ]
          },
          "metadata": {},
          "execution_count": 26
        }
      ]
    },
    {
      "cell_type": "code",
      "source": [
        "bias"
      ],
      "metadata": {
        "colab": {
          "base_uri": "https://localhost:8080/"
        },
        "id": "6-818G2vysG9",
        "outputId": "b308a320-ea36-421f-a196-f7a568d1dbea"
      },
      "execution_count": 27,
      "outputs": [
        {
          "output_type": "execute_result",
          "data": {
            "text/plain": [
              "[0.2713825627450426, 0.2713825627450426, 0.7199721122078858]"
            ]
          },
          "metadata": {},
          "execution_count": 27
        }
      ]
    },
    {
      "cell_type": "code",
      "source": [
        "# Initialization - 2 (based on my intuition of data)\n",
        "# 3 coins are there such that\n",
        "# Low bias, Low selection\n",
        "# Slightly high bias, High selection\n",
        "# High bias, Low selection\n",
        "\n",
        "p_A = 0.8\n",
        "p_B = 0.5\n",
        "p_C = 0.2\n",
        "\n",
        "bias = [p_A,p_B,p_C]\n",
        "\n",
        "pi_A = 0.2\n",
        "pi_B = 0.6\n",
        "pi_C = 0.2\n",
        "\n",
        "selection_prob = [pi_A,pi_B,pi_C]\n",
        "\n",
        "gamma = np.empty((50, 3))\n",
        "\n",
        "\n",
        "for i in range(500):\n",
        "  E_step(Y, gamma, selection_prob,bias)\n",
        "  M_step(Y, gamma, selection_prob,bias)\n",
        "\n",
        "print(selection_prob)\n",
        "print(bias)"
      ],
      "metadata": {
        "id": "o7uliWR85Brd",
        "colab": {
          "base_uri": "https://localhost:8080/"
        },
        "outputId": "cf540793-438c-4aa5-d026-4bdb1328600f"
      },
      "execution_count": 30,
      "outputs": [
        {
          "output_type": "stream",
          "name": "stdout",
          "text": [
            "[0.17855767772922992, 0.5146283397819821, 0.30681398248878794]\n",
            "[0.931728533231595, 0.6100378318845452, 0.2369186684893597]\n"
          ]
        }
      ]
    },
    {
      "cell_type": "code",
      "source": [
        "sum(selection_prob)"
      ],
      "metadata": {
        "colab": {
          "base_uri": "https://localhost:8080/"
        },
        "id": "Mu5YfLLXg5Tf",
        "outputId": "faffbee8-d23a-4fdc-d52d-1ab891cb6253"
      },
      "execution_count": 33,
      "outputs": [
        {
          "output_type": "execute_result",
          "data": {
            "text/plain": [
              "1.0"
            ]
          },
          "metadata": {},
          "execution_count": 33
        }
      ]
    },
    {
      "cell_type": "code",
      "source": [
        "# Algo is DETERMINISTIC\n",
        "\n",
        "# p_A = 0.8\n",
        "# p_B = 0.5\n",
        "# p_C = 0.2\n",
        "\n",
        "# bias = [p_A,p_B,p_C]\n",
        "\n",
        "# pi_A = 0.2\n",
        "# pi_B = 0.6\n",
        "# pi_C = 0.2\n",
        "\n",
        "# selection_prob = [pi_A,pi_B,pi_C]\n",
        "\n",
        "# gamma = np.empty((50, 3))\n",
        "\n",
        "\n",
        "# for i in range(500):\n",
        "#   E_step(Y, gamma, selection_prob,bias)\n",
        "#   M_step(Y, gamma, selection_prob,bias)\n",
        "\n",
        "# print(selection_prob)\n",
        "# print(bias)"
      ],
      "metadata": {
        "colab": {
          "base_uri": "https://localhost:8080/"
        },
        "id": "owSySYH6gikR",
        "outputId": "9090dcab-78cb-4b08-99a1-9bf0d96d68c8"
      },
      "execution_count": 31,
      "outputs": [
        {
          "output_type": "stream",
          "name": "stdout",
          "text": [
            "[0.17855767772922992, 0.5146283397819821, 0.30681398248878794]\n",
            "[0.931728533231595, 0.6100378318845452, 0.2369186684893597]\n"
          ]
        }
      ]
    },
    {
      "cell_type": "code",
      "source": [
        "# Different Initialization - 3 (Not as extreme as my intuition)\n",
        "\n",
        "p_A = 0.4\n",
        "p_B = 0.5\n",
        "p_C = 0.6\n",
        "\n",
        "bias = [p_A,p_B,p_C]\n",
        "\n",
        "pi_A = 0.3\n",
        "pi_B = 0.5\n",
        "pi_C = 0.2\n",
        "\n",
        "selection_prob = [pi_A,pi_B,pi_C]\n",
        "\n",
        "gamma = np.empty((50, 3))\n",
        "\n",
        "\n",
        "for i in range(500):\n",
        "  E_step(Y, gamma, selection_prob,bias)\n",
        "  M_step(Y, gamma, selection_prob,bias)\n",
        "\n",
        "print(selection_prob)\n",
        "print(bias)"
      ],
      "metadata": {
        "colab": {
          "base_uri": "https://localhost:8080/"
        },
        "id": "SU8JhkbCgtYx",
        "outputId": "975a745c-b73b-4536-c6f8-715061c080d9"
      },
      "execution_count": 34,
      "outputs": [
        {
          "output_type": "stream",
          "name": "stdout",
          "text": [
            "[0.3068139824887881, 0.5146283397819821, 0.17855767772922992]\n",
            "[0.23691866848935975, 0.6100378318845451, 0.9317285332315948]\n"
          ]
        }
      ]
    },
    {
      "cell_type": "markdown",
      "source": [
        "# My Answer\n",
        "\n",
        "Based on my intuition of data the selection probabilities of coins with their bias:\n",
        "\n",
        "pi_A = 0.18, p_A = 0.93 <br>\n",
        "pi_B = 0.51, p_B = 0.61 <br>\n",
        "pi_C =  0.31, p_C = 0.23 <br>"
      ],
      "metadata": {
        "id": "YgDyH31ihFVc"
      }
    },
    {
      "cell_type": "code",
      "source": [],
      "metadata": {
        "id": "mhqMPsWZja8H"
      },
      "execution_count": null,
      "outputs": []
    }
  ]
}
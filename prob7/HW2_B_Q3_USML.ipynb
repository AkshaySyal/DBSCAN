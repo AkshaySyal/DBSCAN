{
  "nbformat": 4,
  "nbformat_minor": 0,
  "metadata": {
    "colab": {
      "provenance": []
    },
    "kernelspec": {
      "name": "python3",
      "display_name": "Python 3"
    },
    "language_info": {
      "name": "python"
    }
  },
  "cells": [
    {
      "cell_type": "markdown",
      "source": [
        "#PROBLEM 7: DBSCAN on real data\n",
        "Run the DBSCAN algorithm on the 20NG dataset, and on the FASHION dataset, and the HouseHold dataset (see papers), and evaluate results. You need to implement both phases (1) neighborhoods creation, (2) DBSCAN.\n",
        "Explain why/when it works, and speculate why/when not. You need to trial and error for parameters epsilon and MinPts\n",
        "\n",
        "DBSCAN Revisited, Revisited: Why and How You Should (Still) Use DBSCAN\n",
        "DBSCAN Revisited:Mis-Claim, Un-Fixability, and Approximation\n",
        "\n",
        "EXTRA CREDIT: Using class labels (cheating), try to remove/add points in curate the set for better DBSCAN runs"
      ],
      "metadata": {
        "id": "XNumIIkJZE7I"
      }
    },
    {
      "cell_type": "code",
      "execution_count": 22,
      "metadata": {
        "id": "7cRl2pDDdMRk",
        "colab": {
          "base_uri": "https://localhost:8080/"
        },
        "outputId": "a759a7ef-18a1-43af-c334-e436f94ed917"
      },
      "outputs": [
        {
          "output_type": "stream",
          "name": "stdout",
          "text": [
            "Drive already mounted at /content/drive; to attempt to forcibly remount, call drive.mount(\"/content/drive\", force_remount=True).\n"
          ]
        }
      ],
      "source": [
        "import pandas as pd\n",
        "import numpy as np\n",
        "import matplotlib.pyplot as plt\n",
        "from google.colab import drive\n",
        "from sklearn.neighbors import BallTree\n",
        "import seaborn as sns\n",
        "drive.mount('/content/drive')"
      ]
    },
    {
      "cell_type": "code",
      "source": [
        "X = np.array([[-1, -1], [-2, -1], [-3, -2], [1, 1], [2, 1], [3, 2]])\n",
        "ball_tree = BallTree(X)\n",
        "ball_tree.query_radius(X, r=5)"
      ],
      "metadata": {
        "id": "mhqMPsWZja8H",
        "colab": {
          "base_uri": "https://localhost:8080/"
        },
        "outputId": "f5f6b37d-f8cb-48c6-e693-b27203511197"
      },
      "execution_count": 33,
      "outputs": [
        {
          "output_type": "execute_result",
          "data": {
            "text/plain": [
              "array([array([0, 1, 2, 3, 4, 5]), array([0, 1, 2, 3, 4]),\n",
              "       array([0, 1, 2, 3]), array([0, 1, 2, 3, 4, 5]),\n",
              "       array([0, 1, 3, 4, 5]), array([0, 3, 4, 5])], dtype=object)"
            ]
          },
          "metadata": {},
          "execution_count": 33
        }
      ]
    },
    {
      "cell_type": "code",
      "source": [
        "for i in range(len(X)):\n",
        "  print(i,np.linalg.norm(X[5]-X[i]))"
      ],
      "metadata": {
        "id": "OJl6Zmf8C2sO",
        "outputId": "788e6cad-ae9b-40fd-9107-7bfec9fc5832",
        "colab": {
          "base_uri": "https://localhost:8080/"
        }
      },
      "execution_count": 31,
      "outputs": [
        {
          "output_type": "stream",
          "name": "stdout",
          "text": [
            "0 5.0\n",
            "1 5.830951894845301\n",
            "2 7.211102550927978\n",
            "3 2.23606797749979\n",
            "4 1.4142135623730951\n",
            "5 0.0\n"
          ]
        }
      ]
    },
    {
      "cell_type": "code",
      "source": [],
      "metadata": {
        "id": "jIeQAhACC58I"
      },
      "execution_count": null,
      "outputs": []
    }
  ]
}
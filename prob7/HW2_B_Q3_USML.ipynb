{
  "nbformat": 4,
  "nbformat_minor": 0,
  "metadata": {
    "colab": {
      "provenance": []
    },
    "kernelspec": {
      "name": "python3",
      "display_name": "Python 3"
    },
    "language_info": {
      "name": "python"
    }
  },
  "cells": [
    {
      "cell_type": "markdown",
      "source": [
        "#PROBLEM 7: DBSCAN on real data\n",
        "Run the DBSCAN algorithm on the 20NG dataset, and on the FASHION dataset, and the HouseHold dataset (see papers), and evaluate results. You need to implement both phases (1) neighborhoods creation, (2) DBSCAN.\n",
        "Explain why/when it works, and speculate why/when not. You need to trial and error for parameters epsilon and MinPts\n",
        "\n",
        "DBSCAN Revisited, Revisited: Why and How You Should (Still) Use DBSCAN\n",
        "DBSCAN Revisited:Mis-Claim, Un-Fixability, and Approximation\n",
        "\n",
        "EXTRA CREDIT: Using class labels (cheating), try to remove/add points in curate the set for better DBSCAN runs"
      ],
      "metadata": {
        "id": "XNumIIkJZE7I"
      }
    },
    {
      "cell_type": "code",
      "source": [
        "!pip install idx2numpy"
      ],
      "metadata": {
        "collapsed": true,
        "colab": {
          "base_uri": "https://localhost:8080/"
        },
        "id": "mJYgYio5Qxf6",
        "outputId": "7820299e-f1af-4b29-c010-fdef762951aa"
      },
      "execution_count": 1,
      "outputs": [
        {
          "output_type": "stream",
          "name": "stdout",
          "text": [
            "Requirement already satisfied: idx2numpy in /usr/local/lib/python3.10/dist-packages (1.2.3)\n",
            "Requirement already satisfied: numpy in /usr/local/lib/python3.10/dist-packages (from idx2numpy) (1.25.2)\n",
            "Requirement already satisfied: six in /usr/local/lib/python3.10/dist-packages (from idx2numpy) (1.16.0)\n"
          ]
        }
      ]
    },
    {
      "cell_type": "code",
      "execution_count": 107,
      "metadata": {
        "id": "7cRl2pDDdMRk",
        "colab": {
          "base_uri": "https://localhost:8080/"
        },
        "outputId": "4d8dc211-8b44-47a6-e294-05c8eb684f20"
      },
      "outputs": [
        {
          "output_type": "stream",
          "name": "stdout",
          "text": [
            "Drive already mounted at /content/drive; to attempt to forcibly remount, call drive.mount(\"/content/drive\", force_remount=True).\n"
          ]
        }
      ],
      "source": [
        "import pandas as pd\n",
        "import numpy as np\n",
        "import matplotlib.pyplot as plt\n",
        "from google.colab import drive\n",
        "from sklearn.neighbors import BallTree\n",
        "import seaborn as sns\n",
        "drive.mount('/content/drive')\n",
        "import idx2numpy\n",
        "from sklearn.datasets import fetch_20newsgroups\n",
        "from collections import Counter\n",
        "import pickle"
      ]
    },
    {
      "cell_type": "markdown",
      "source": [
        "# Fashion Dataset"
      ],
      "metadata": {
        "id": "VAvHjngkvytW"
      }
    },
    {
      "cell_type": "code",
      "source": [
        "# Fashion Train dataset\n",
        "imgs = idx2numpy.convert_from_file('/content/drive/MyDrive/USML/HW 2B/Fashion/train-images-idx3-ubyte')\n",
        "lbls = idx2numpy.convert_from_file('/content/drive/MyDrive/USML/HW 2B/Fashion/train-labels-idx1-ubyte')\n",
        "imgs_flat = imgs.reshape(imgs.shape[0],-1)"
      ],
      "metadata": {
        "id": "jIeQAhACC58I"
      },
      "execution_count": 4,
      "outputs": []
    },
    {
      "cell_type": "code",
      "source": [
        "fashion_ball_tree = BallTree(imgs_flat,metric='euclidean')"
      ],
      "metadata": {
        "id": "LVX6NDZKRbdk"
      },
      "execution_count": 5,
      "outputs": []
    },
    {
      "cell_type": "markdown",
      "source": [
        "## Attempt 1 - To find appropriate Eps"
      ],
      "metadata": {
        "id": "2sy0sk3Sv8Z-"
      }
    },
    {
      "cell_type": "code",
      "source": [
        "boot = imgs_flat[0] # lbl = 9\n",
        "tshirt = imgs_flat[1] # lbl = 0\n",
        "dress = imgs_flat[3] # lbl = 3\n",
        "pullover = imgs_flat[5] # lbl = 2\n",
        "sneaker = imgs_flat[6] # lbl = 7\n",
        "sandal = imgs_flat[8] # lbl = 5\n",
        "trouser = imgs_flat[16] # lbl = 1\n",
        "shirt = imgs_flat[18] # lbl = 6\n",
        "coat = imgs_flat[19] # lbl = 4\n",
        "bag = imgs_flat[35] # lbl = 8\n",
        "\n"
      ],
      "metadata": {
        "id": "0pS15ARCv422"
      },
      "execution_count": 6,
      "outputs": []
    },
    {
      "cell_type": "code",
      "source": [
        "def accuracy(radius,img,img_lbl,img_lbl_name):\n",
        "  similar_imgs = fashion_ball_tree.query_radius([img], r=radius)\n",
        "  indices_of_similar_imgs = similar_imgs[0]\n",
        "  correct_lbl = 0\n",
        "  for idx in indices_of_similar_imgs:\n",
        "    if lbls[idx] == img_lbl:\n",
        "      correct_lbl += 1\n",
        "  total_lbls = len(indices_of_similar_imgs)\n",
        "  accu = (correct_lbl/total_lbls) * 100\n",
        "  print(f\"For radius {radius}, class {img_lbl_name} is correctly classified {accu:.2f}% out of {total_lbls}\")\n",
        "  return accu"
      ],
      "metadata": {
        "id": "Gs1ERbApwD8s"
      },
      "execution_count": 35,
      "outputs": []
    },
    {
      "cell_type": "code",
      "source": [
        "radius = 1625\n",
        "img_sample = {\n",
        "    'boot': [boot,radius,9],\n",
        "    'tshirt': [tshirt,radius,0],\n",
        "    'dress': [dress,radius,3],\n",
        "    'pullover': [pullover,radius,2],\n",
        "    'sneaker': [sneaker,radius,7],\n",
        "    'sandal': [sandal,radius,5],\n",
        "    'trouser': [trouser,radius,1],\n",
        "    'shirt': [shirt,radius,6],\n",
        "    'coat': [coat,radius,4],\n",
        "    'bag': [bag,radius,8]\n",
        "}\n",
        "avg_accuracy = 0\n",
        "for lbl_name,(img,radius,lbl) in img_sample.items():\n",
        "  avg_accuracy += accuracy(radius,img,lbl,lbl_name)\n",
        "\n",
        "print(f\"Average Accuracy:{avg_accuracy/10} \")"
      ],
      "metadata": {
        "colab": {
          "base_uri": "https://localhost:8080/"
        },
        "id": "PIkjJ8p7wRMJ",
        "outputId": "d5f694f7-fe57-44a2-82aa-57b73c75d3ad"
      },
      "execution_count": 51,
      "outputs": [
        {
          "output_type": "stream",
          "name": "stdout",
          "text": [
            "For radius 1625, class boot is correctly classified 94.47% out of 199\n",
            "For radius 1625, class tshirt is correctly classified 96.83% out of 852\n",
            "For radius 1625, class dress is correctly classified 21.79% out of 3221\n",
            "For radius 1625, class pullover is correctly classified 81.76% out of 669\n",
            "For radius 1625, class sneaker is correctly classified 89.32% out of 3455\n",
            "For radius 1625, class sandal is correctly classified 91.82% out of 318\n",
            "For radius 1625, class trouser is correctly classified 94.68% out of 1033\n",
            "For radius 1625, class shirt is correctly classified 28.94% out of 2426\n",
            "For radius 1625, class coat is correctly classified 11.58% out of 5641\n",
            "For radius 1625, class bag is correctly classified 77.11% out of 450\n",
            "Average Accuracy:68.8304669488624 \n"
          ]
        }
      ]
    },
    {
      "cell_type": "markdown",
      "source": [
        "## Attempt 2 - To find Eps"
      ],
      "metadata": {
        "id": "dZRC7Amb3B0b"
      }
    },
    {
      "cell_type": "code",
      "source": [
        "# Determining EPS and MINPTS\n",
        "# 1. Calculate distance of k-th nearest neighbor for each point\n",
        "# 2. Plot in ascending / descending order\n",
        "# 3. Set EPS to max distance before “jump”\n",
        "# 4. Set Minpts to k.\n",
        "def determineEpsAndMinPts(k, ball_tree, data):\n",
        "  distances, indices = ball_tree.query(data,k=k)\n",
        "  kth_distances = distances[:,-1]\n",
        "  kth_distances.sort()\n",
        "  plt.plot(kth_distances)\n",
        "  plt.show()"
      ],
      "metadata": {
        "id": "tqpDQU4RYcxV"
      },
      "execution_count": 58,
      "outputs": []
    },
    {
      "cell_type": "code",
      "source": [
        "sample_indices = np.random.choice(imgs_flat.shape[0], 10000, replace=False)\n",
        "sampled_imgs = imgs_flat[sample_indices]\n",
        "sampled_ball_tree = BallTree(sampled_imgs,metric='euclidean')\n",
        "determineEpsAndMinPts(785, sampled_ball_tree, sampled_imgs)"
      ],
      "metadata": {
        "colab": {
          "base_uri": "https://localhost:8080/",
          "height": 430
        },
        "id": "PJ-KjevH3Uea",
        "outputId": "bac66306-6e68-4586-ff10-4bf2c4ab0c7e"
      },
      "execution_count": 60,
      "outputs": [
        {
          "output_type": "display_data",
          "data": {
            "text/plain": [
              "<Figure size 640x480 with 1 Axes>"
            ],
            "image/png": "[encoded data removed]"
          },
          "metadata": {}
        }
      ]
    },
    {
      "cell_type": "code",
      "source": [
        "sample_indices = np.random.choice(imgs_flat.shape[0], 10000, replace=False)\n",
        "sampled_imgs = imgs_flat[sample_indices]\n",
        "sampled_ball_tree = BallTree(sampled_imgs,metric='euclidean')\n",
        "determineEpsAndMinPts(3750, sampled_ball_tree, sampled_imgs)"
      ],
      "metadata": {
        "colab": {
          "base_uri": "https://localhost:8080/",
          "height": 430
        },
        "id": "Axx15cvR8yOJ",
        "outputId": "2e966a89-f223-422d-ba21-a6839017bdcd"
      },
      "execution_count": 62,
      "outputs": [
        {
          "output_type": "display_data",
          "data": {
            "text/plain": [
              "<Figure size 640x480 with 1 Axes>"
            ],
            "image/png": "[encoded data removed]"
          },
          "metadata": {}
        }
      ]
    },
    {
      "cell_type": "markdown",
      "source": [
        "## DBSCAN"
      ],
      "metadata": {
        "id": "_OpR272x65sC"
      }
    },
    {
      "cell_type": "code",
      "source": [
        "# returns index of neighbors\n",
        "def RangeQuery(DB, ball_tree, pt_idx, eps):\n",
        "  return ball_tree.query_radius([DB[pt_idx]], r=eps)[0]"
      ],
      "metadata": {
        "id": "adXzBGbefK26"
      },
      "execution_count": 97,
      "outputs": []
    },
    {
      "cell_type": "code",
      "source": [
        "def DBSCAN(DB, ball_tree, eps, minPts = 785):\n",
        "  c = 0\n",
        "  idx = 0\n",
        "  lbl = [None for i in range(len(DB))]\n",
        "\n",
        "  while idx < DB.shape[0]:\n",
        "    if(lbl[idx] is not None):\n",
        "      idx+=1\n",
        "      continue\n",
        "    N = RangeQuery(DB, ball_tree, idx, eps)\n",
        "    if(len(N) < minPts):\n",
        "      lbl[idx] = -1 # lbl of -1 means noise\n",
        "      idx+=1\n",
        "      continue\n",
        "\n",
        "    c += 1\n",
        "    lbl[idx] = c\n",
        "\n",
        "    seedset = []\n",
        "    seedset.extend(N)\n",
        "    seedset.remove(idx)\n",
        "\n",
        "    while len(seedset)>0:\n",
        "      pt = seedset.pop(0)\n",
        "\n",
        "      if(lbl[pt] == -1):\n",
        "        lbl[pt] = c\n",
        "\n",
        "      elif(lbl[pt] is not None):\n",
        "        continue\n",
        "\n",
        "      lbl[pt] = c\n",
        "      N = RangeQuery(DB, ball_tree, pt, eps)\n",
        "\n",
        "      if(len(N) >= minPts):\n",
        "        seedset.extend(N)\n",
        "\n",
        "    idx+=1\n",
        "  return lbl"
      ],
      "metadata": {
        "id": "aq0NQWlffTXs"
      },
      "execution_count": 104,
      "outputs": []
    },
    {
      "cell_type": "code",
      "source": [
        "sample_indices = np.random.choice(imgs_flat.shape[0], 1000, replace=False)\n",
        "sampled_imgs = imgs_flat[sample_indices]\n",
        "sampled_ball_tree = BallTree(sampled_imgs,metric='euclidean')"
      ],
      "metadata": {
        "id": "AsQJtGCZ_xyM"
      },
      "execution_count": 99,
      "outputs": []
    },
    {
      "cell_type": "code",
      "source": [
        "labels = DBSCAN(imgs_flat, fashion_ball_tree, eps = 2000, minPts = 785)"
      ],
      "metadata": {
        "colab": {
          "base_uri": "https://localhost:8080/",
          "height": 269
        },
        "id": "2Y3fJP2SCj7-",
        "outputId": "d0c579b8-a097-4e48-bf19-a08ffd261e7d"
      },
      "execution_count": 105,
      "outputs": [
        {
          "output_type": "error",
          "ename": "KeyboardInterrupt",
          "evalue": "",
          "traceback": [
            "\u001b[0;31m---------------------------------------------------------------------------\u001b[0m",
            "\u001b[0;31mKeyboardInterrupt\u001b[0m                         Traceback (most recent call last)",
            "\u001b[0;32m<ipython-input-105-12d518c4c26b>\u001b[0m in \u001b[0;36m<cell line: 1>\u001b[0;34m()\u001b[0m\n\u001b[0;32m----> 1\u001b[0;31m \u001b[0mlabels\u001b[0m \u001b[0;34m=\u001b[0m \u001b[0mDBSCAN\u001b[0m\u001b[0;34m(\u001b[0m\u001b[0mimgs_flat\u001b[0m\u001b[0;34m,\u001b[0m \u001b[0mfashion_ball_tree\u001b[0m\u001b[0;34m,\u001b[0m \u001b[0meps\u001b[0m \u001b[0;34m=\u001b[0m \u001b[0;36m2000\u001b[0m\u001b[0;34m,\u001b[0m \u001b[0mminPts\u001b[0m \u001b[0;34m=\u001b[0m \u001b[0;36m785\u001b[0m\u001b[0;34m)\u001b[0m\u001b[0;34m\u001b[0m\u001b[0;34m\u001b[0m\u001b[0m\n\u001b[0m",
            "\u001b[0;32m<ipython-input-104-30e62544987e>\u001b[0m in \u001b[0;36mDBSCAN\u001b[0;34m(DB, ball_tree, eps, minPts)\u001b[0m\n\u001b[1;32m     22\u001b[0m \u001b[0;34m\u001b[0m\u001b[0m\n\u001b[1;32m     23\u001b[0m     \u001b[0;32mwhile\u001b[0m \u001b[0mlen\u001b[0m\u001b[0;34m(\u001b[0m\u001b[0mseedset\u001b[0m\u001b[0;34m)\u001b[0m\u001b[0;34m>\u001b[0m\u001b[0;36m0\u001b[0m\u001b[0;34m:\u001b[0m\u001b[0;34m\u001b[0m\u001b[0;34m\u001b[0m\u001b[0m\n\u001b[0;32m---> 24\u001b[0;31m       \u001b[0mpt\u001b[0m \u001b[0;34m=\u001b[0m \u001b[0mseedset\u001b[0m\u001b[0;34m.\u001b[0m\u001b[0mpop\u001b[0m\u001b[0;34m(\u001b[0m\u001b[0;36m0\u001b[0m\u001b[0;34m)\u001b[0m\u001b[0;34m\u001b[0m\u001b[0;34m\u001b[0m\u001b[0m\n\u001b[0m\u001b[1;32m     25\u001b[0m \u001b[0;34m\u001b[0m\u001b[0m\n\u001b[1;32m     26\u001b[0m       \u001b[0;32mif\u001b[0m\u001b[0;34m(\u001b[0m\u001b[0mlbl\u001b[0m\u001b[0;34m[\u001b[0m\u001b[0mpt\u001b[0m\u001b[0;34m]\u001b[0m \u001b[0;34m==\u001b[0m \u001b[0;34m-\u001b[0m\u001b[0;36m1\u001b[0m\u001b[0;34m)\u001b[0m\u001b[0;34m:\u001b[0m\u001b[0;34m\u001b[0m\u001b[0;34m\u001b[0m\u001b[0m\n",
            "\u001b[0;31mKeyboardInterrupt\u001b[0m: "
          ]
        }
      ]
    },
    {
      "cell_type": "markdown",
      "source": [
        "### Evaluation (Purity)"
      ],
      "metadata": {
        "id": "97jcqpGgIiu6"
      }
    },
    {
      "cell_type": "code",
      "source": [
        "# Confusion matrix of algorithm determined cluster indices (row) vs true cluster indices (column)\n",
        "# purity = sum of row wise max / total data points\n",
        "\n",
        "algo_det_lbls = labels # array of shape 1xN\n",
        "cm = np.zeros((len(set(labels)),10), dtype=int)\n",
        "\n",
        "for i in range(len(algo_det_lbls)):\n",
        "  algo_det_lbl = algo_det_lbls[i]\n",
        "  true_lbl = lbls[i]\n",
        "  cm[algo_det_lbl][true_lbl] += 1\n",
        "\n",
        "Pj_sum = np.sum(np.max(cm,axis=1))\n",
        "print(f\"Purity: {Pj_sum/len(algo_det_lbls)}\")"
      ],
      "metadata": {
        "id": "UCg9S0NoCr1_"
      },
      "execution_count": 102,
      "outputs": []
    },
    {
      "cell_type": "markdown",
      "source": [
        "# UCI Household Dataset"
      ],
      "metadata": {
        "id": "fUgUHvfuafuu"
      }
    },
    {
      "cell_type": "code",
      "source": [
        "# # Cleaning UCI Household dataset\n",
        "# df = pd.read_csv('/content/drive/MyDrive/USML/HW 2B/household_power_consumption.txt', delimiter=';')\n",
        "# df.drop(columns=['Date','Time'], inplace=True)\n",
        "# df.replace('?', np.nan, inplace=True)\n",
        "# df = df.astype(float)\n",
        "# df.dropna(inplace=True)\n",
        "# numpy_array = df.values\n",
        "# with open('/content/drive/MyDrive/USML/HW 2B/numpy_array.pkl', 'wb') as f:\n",
        "#     pickle.dump(numpy_array, f)"
      ],
      "metadata": {
        "id": "chs7d2SFEL4V"
      },
      "execution_count": null,
      "outputs": []
    },
    {
      "cell_type": "code",
      "source": [
        "with open('/content/drive/MyDrive/USML/HW 2B/UCI Household Dataset/numpy_array.pkl', 'rb') as f:\n",
        "    household = pickle.load(f)"
      ],
      "metadata": {
        "id": "ogrkdwXuaj1e"
      },
      "execution_count": 108,
      "outputs": []
    },
    {
      "cell_type": "code",
      "source": [
        "household.shape"
      ],
      "metadata": {
        "id": "O9Yqo9Q0alpa",
        "outputId": "331ae23a-5d95-4a03-dbdb-bac2aacf6bf3",
        "colab": {
          "base_uri": "https://localhost:8080/"
        }
      },
      "execution_count": 109,
      "outputs": [
        {
          "output_type": "execute_result",
          "data": {
            "text/plain": [
              "(2049280, 7)"
            ]
          },
          "metadata": {},
          "execution_count": 109
        }
      ]
    },
    {
      "cell_type": "code",
      "source": [
        "sample_indices = np.random.choice(household.shape[0], 2000, replace=False)\n",
        "sampled_recs = household[sample_indices]\n",
        "ball_tree = BallTree(sampled_recs,metric='euclidean')"
      ],
      "metadata": {
        "id": "xXltPy67auP1"
      },
      "execution_count": 110,
      "outputs": []
    },
    {
      "cell_type": "code",
      "source": [
        "determineEpsAndMinPts(8, ball_tree, sampled_recs)"
      ],
      "metadata": {
        "id": "o1biy-82auzy",
        "outputId": "5dd7ad46-3c5d-4ba5-d2d4-d777bac0c0cc",
        "colab": {
          "base_uri": "https://localhost:8080/",
          "height": 430
        }
      },
      "execution_count": 111,
      "outputs": [
        {
          "output_type": "display_data",
          "data": {
            "text/plain": [
              "<Figure size 640x480 with 1 Axes>"
            ],
            "image/png": "[encoded data removed]"
          },
          "metadata": {}
        }
      ]
    },
    {
      "cell_type": "code",
      "source": [
        "labels = DBSCAN(sampled_recs, ball_tree, eps = 2.5, minPts = 8)"
      ],
      "metadata": {
        "id": "QoXFIJHoaxVa"
      },
      "execution_count": 112,
      "outputs": []
    },
    {
      "cell_type": "code",
      "source": [
        "value_counts = Counter(labels)\n",
        "value_counts"
      ],
      "metadata": {
        "id": "XFOjraKQa0rC",
        "outputId": "c28ddd07-6416-49d6-bf49-c9890a44d685",
        "colab": {
          "base_uri": "https://localhost:8080/"
        }
      },
      "execution_count": 113,
      "outputs": [
        {
          "output_type": "execute_result",
          "data": {
            "text/plain": [
              "Counter({1: 561, 2: 1252, -1: 149, 3: 25, 4: 13})"
            ]
          },
          "metadata": {},
          "execution_count": 113
        }
      ]
    },
    {
      "cell_type": "code",
      "source": [],
      "metadata": {
        "id": "fY1Mo3GNbB6w"
      },
      "execution_count": null,
      "outputs": []
    }
  ]
}
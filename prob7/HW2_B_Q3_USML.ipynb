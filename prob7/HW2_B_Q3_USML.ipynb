{
  "nbformat": 4,
  "nbformat_minor": 0,
  "metadata": {
    "colab": {
      "provenance": []
    },
    "kernelspec": {
      "name": "python3",
      "display_name": "Python 3"
    },
    "language_info": {
      "name": "python"
    }
  },
  "cells": [
    {
      "cell_type": "markdown",
      "source": [
        "#PROBLEM 7: DBSCAN on real data\n",
        "Run the DBSCAN algorithm on the 20NG dataset, and on the FASHION dataset, and the HouseHold dataset (see papers), and evaluate results. You need to implement both phases (1) neighborhoods creation, (2) DBSCAN.\n",
        "Explain why/when it works, and speculate why/when not. You need to trial and error for parameters epsilon and MinPts\n",
        "\n",
        "DBSCAN Revisited, Revisited: Why and How You Should (Still) Use DBSCAN\n",
        "DBSCAN Revisited:Mis-Claim, Un-Fixability, and Approximation\n",
        "\n",
        "EXTRA CREDIT: Using class labels (cheating), try to remove/add points in curate the set for better DBSCAN runs"
      ],
      "metadata": {
        "id": "XNumIIkJZE7I"
      }
    },
    {
      "cell_type": "code",
      "execution_count": null,
      "metadata": {
        "id": "7cRl2pDDdMRk"
      },
      "outputs": [],
      "source": [
        "import pandas as pd\n",
        "import numpy as np\n",
        "import matplotlib.pyplot as plt\n",
        "from google.colab import drive\n",
        "from scipy.spatial import KDTree\n",
        "import seaborn as sns\n",
        "drive.mount('/content/drive')"
      ]
    },
    {
      "cell_type": "code",
      "source": [],
      "metadata": {
        "id": "mhqMPsWZja8H"
      },
      "execution_count": null,
      "outputs": []
    }
  ]
}
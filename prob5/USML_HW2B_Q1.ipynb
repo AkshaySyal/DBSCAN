{
  "nbformat": 4,
  "nbformat_minor": 0,
  "metadata": {
    "colab": {
      "provenance": []
    },
    "kernelspec": {
      "name": "python3",
      "display_name": "Python 3"
    },
    "language_info": {
      "name": "python"
    }
  },
  "cells": [
    {
      "cell_type": "code",
      "source": [],
      "metadata": {
        "id": "Q_rLMo3GwT49"
      },
      "execution_count": null,
      "outputs": []
    },
    {
      "cell_type": "markdown",
      "source": [
        "#PROBLEM 5: DBSCAN on toy-neighborhood data\n",
        "You are to cluster, and visualize, a small dataset using DBSCAN epsilon = 7.5, MinPts = 3. You have been provided a file, dbscan.csv, that has the following columns for each point in the dataset: <br>\n",
        "1. cluster originally empty, provided for your convenience pt a unique id for each data point\n",
        "2. x point x-coordinate\n",
        "3. y point y-coordinate\n",
        "4. num neighbors number of neighbors, according to the coordinates above\n",
        "5. neighbors the id’s of all neighbors within <br>\n",
        "As you can see, a tedious O(n^2) portion of the work has been done for you. Your job is to execute, point-by-point, the DBSCAN algorithm, logging your work."
      ],
      "metadata": {
        "id": "-s5PS9tqsiAS"
      }
    },
    {
      "cell_type": "code",
      "execution_count": 1,
      "metadata": {
        "colab": {
          "base_uri": "https://localhost:8080/"
        },
        "id": "ijZbQE8Hsc5h",
        "outputId": "b1960a6f-de5a-4e51-9f8c-3ebf10ea697c"
      },
      "outputs": [
        {
          "output_type": "stream",
          "name": "stdout",
          "text": [
            "Drive already mounted at /content/drive; to attempt to forcibly remount, call drive.mount(\"/content/drive\", force_remount=True).\n"
          ]
        }
      ],
      "source": [
        "import pandas as pd\n",
        "import numpy as np\n",
        "import matplotlib.pyplot as plt\n",
        "from google.colab import drive\n",
        "drive.mount('/content/drive')"
      ]
    },
    {
      "cell_type": "code",
      "source": [
        "data = pd.read_csv('/content/drive/MyDrive/USML/HW 2B/dbscan.csv')\n",
        "data['neighbors'] = data['neighbors'].apply(lambda x: [int(i) for i in x.split(',')])"
      ],
      "metadata": {
        "id": "iSqncOXns4FU"
      },
      "execution_count": 3,
      "outputs": []
    },
    {
      "cell_type": "code",
      "source": [
        "minPts = 3\n",
        "c = 0\n",
        "\n",
        "for idx,row in data.iterrows():\n",
        "  print(row)\n",
        "  if(not pd.isna(row['cluster'])):\n",
        "    continue\n",
        "\n",
        "  if(row['num_neighbors'] < minPts):\n",
        "    continue\n",
        "\n",
        "  c += 1\n",
        "  row['cluster'] = c\n",
        "\n",
        "  seedset = row['neighbors']\n",
        "\n",
        "  i = 0\n",
        "\n",
        "  while i < len(seedset):\n",
        "    print(seedset)\n",
        "    pt = seedset[i]\n",
        "    if(pd.isna(data.iloc[pt][0])):\n",
        "      data.iloc[pt][0] = c\n",
        "    if(not pd.isna(data.iloc[pt][0])):\n",
        "      continue\n",
        "    data.iloc[pt][0] = c\n",
        "\n",
        "    num_neighbors = data.iloc[pt][4]\n",
        "\n",
        "    if(num_neighbors >= minPts):\n",
        "      seedset.extend(data.iloc[pt][5])\n",
        "\n",
        "    i+=1"
      ],
      "metadata": {
        "id": "t8yqDiiYs6hp"
      },
      "execution_count": null,
      "outputs": []
    },
    {
      "cell_type": "code",
      "source": [],
      "metadata": {
        "id": "jTCGDh_suI5b"
      },
      "execution_count": null,
      "outputs": []
    }
  ]
}